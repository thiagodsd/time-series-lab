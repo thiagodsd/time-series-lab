{
 "cells": [
  {
   "cell_type": "markdown",
   "id": "f27f24cf",
   "metadata": {},
   "source": [
    "# setup"
   ]
  },
  {
   "cell_type": "code",
   "execution_count": 1,
   "id": "vocational-british",
   "metadata": {
    "ExecuteTime": {
     "end_time": "2022-08-13T20:32:01.298121Z",
     "start_time": "2022-08-13T20:32:00.450470Z"
    },
    "tags": []
   },
   "outputs": [],
   "source": [
    "import gc\n",
    "import datetime\n",
    "\n",
    "import matplotlib.pyplot as plt\n",
    "import numpy as np\n",
    "import pandas as pd\n",
    "\n",
    "import math\n",
    "from functools import lru_cache, partial\n",
    "from typing import Iterable, Optional\n",
    "\n",
    "import matplotlib.dates as mdates\n",
    "import numpy as np\n",
    "import pandas as pd\n",
    "import torch\n",
    "from accelerate import Accelerator\n",
    "from evaluate import load\n",
    "from gluonts.dataset.field_names import FieldName\n",
    "from gluonts.dataset.loader import as_stacked_batches\n",
    "from gluonts.dataset.multivariate_grouper import MultivariateGrouper\n",
    "from gluonts.itertools import Cached, Cyclic\n",
    "from gluonts.time_feature import (\n",
    "    TimeFeature, get_lags_for_frequency,\n",
    "    get_seasonality,\n",
    "    time_features_from_frequency_str\n",
    ")\n",
    "from gluonts.transform import (\n",
    "        AddAgeFeature, AddObservedValuesIndicator,\n",
    "        AddTimeFeatures, AsNumpyArray, Chain,\n",
    "        ExpectedNumInstanceSampler, InstanceSplitter,\n",
    "        RemoveFields, RenameFields, SelectFields,\n",
    "        SetField, TestSplitSampler, Transformation,\n",
    "        ValidationSplitSampler, VstackFeatures\n",
    ")\n",
    "from gluonts.transform.sampler import InstanceSampler\n",
    "from IPython.display import display\n",
    "from pandas.core.arrays.period import period_array\n",
    "from torch import nn\n",
    "from torch.optim import AdamW\n",
    "from transformers import (\n",
    "    InformerConfig, InformerForPrediction,\n",
    "    PretrainedConfig\n",
    ")\n",
    "from transformers.utils import send_example_telemetry\n"
   ]
  },
  {
   "cell_type": "code",
   "execution_count": 2,
   "id": "dd9952f6",
   "metadata": {},
   "outputs": [],
   "source": [
    "plt.style.use('fivethirtyeight')"
   ]
  },
  {
   "cell_type": "markdown",
   "id": "00d54e60",
   "metadata": {},
   "source": [
    "# data"
   ]
  },
  {
   "cell_type": "code",
   "execution_count": 3,
   "id": "fb9c47e2",
   "metadata": {},
   "outputs": [
    {
     "data": {
      "text/html": [
       "<div>\n",
       "<style scoped>\n",
       "    .dataframe tbody tr th:only-of-type {\n",
       "        vertical-align: middle;\n",
       "    }\n",
       "\n",
       "    .dataframe tbody tr th {\n",
       "        vertical-align: top;\n",
       "    }\n",
       "\n",
       "    .dataframe thead th {\n",
       "        text-align: right;\n",
       "    }\n",
       "</style>\n",
       "<table border=\"1\" class=\"dataframe\">\n",
       "  <thead>\n",
       "    <tr style=\"text-align: right;\">\n",
       "      <th></th>\n",
       "      <th>date</th>\n",
       "      <th>high</th>\n",
       "      <th>low</th>\n",
       "      <th>open</th>\n",
       "      <th>close</th>\n",
       "      <th>volume</th>\n",
       "      <th>adjclose</th>\n",
       "      <th>formatted_date</th>\n",
       "    </tr>\n",
       "  </thead>\n",
       "  <tbody>\n",
       "    <tr>\n",
       "      <th>0</th>\n",
       "      <td>1410912000</td>\n",
       "      <td>468.174011</td>\n",
       "      <td>452.421997</td>\n",
       "      <td>465.864014</td>\n",
       "      <td>457.334015</td>\n",
       "      <td>21056800</td>\n",
       "      <td>457.334015</td>\n",
       "      <td>2014-09-17</td>\n",
       "    </tr>\n",
       "    <tr>\n",
       "      <th>1</th>\n",
       "      <td>1410998400</td>\n",
       "      <td>456.859985</td>\n",
       "      <td>413.104004</td>\n",
       "      <td>456.859985</td>\n",
       "      <td>424.440002</td>\n",
       "      <td>34483200</td>\n",
       "      <td>424.440002</td>\n",
       "      <td>2014-09-18</td>\n",
       "    </tr>\n",
       "    <tr>\n",
       "      <th>2</th>\n",
       "      <td>1411084800</td>\n",
       "      <td>427.834991</td>\n",
       "      <td>384.532013</td>\n",
       "      <td>424.102997</td>\n",
       "      <td>394.795990</td>\n",
       "      <td>37919700</td>\n",
       "      <td>394.795990</td>\n",
       "      <td>2014-09-19</td>\n",
       "    </tr>\n",
       "    <tr>\n",
       "      <th>3</th>\n",
       "      <td>1411171200</td>\n",
       "      <td>423.295990</td>\n",
       "      <td>389.882996</td>\n",
       "      <td>394.673004</td>\n",
       "      <td>408.903992</td>\n",
       "      <td>36863600</td>\n",
       "      <td>408.903992</td>\n",
       "      <td>2014-09-20</td>\n",
       "    </tr>\n",
       "    <tr>\n",
       "      <th>4</th>\n",
       "      <td>1411257600</td>\n",
       "      <td>412.425995</td>\n",
       "      <td>393.181000</td>\n",
       "      <td>408.084991</td>\n",
       "      <td>398.821014</td>\n",
       "      <td>26580100</td>\n",
       "      <td>398.821014</td>\n",
       "      <td>2014-09-21</td>\n",
       "    </tr>\n",
       "    <tr>\n",
       "      <th>...</th>\n",
       "      <td>...</td>\n",
       "      <td>...</td>\n",
       "      <td>...</td>\n",
       "      <td>...</td>\n",
       "      <td>...</td>\n",
       "      <td>...</td>\n",
       "      <td>...</td>\n",
       "      <td>...</td>\n",
       "    </tr>\n",
       "    <tr>\n",
       "      <th>3413</th>\n",
       "      <td>1705795200</td>\n",
       "      <td>41855.367188</td>\n",
       "      <td>41497.007812</td>\n",
       "      <td>41671.488281</td>\n",
       "      <td>41545.785156</td>\n",
       "      <td>9344043642</td>\n",
       "      <td>41545.785156</td>\n",
       "      <td>2024-01-21</td>\n",
       "    </tr>\n",
       "    <tr>\n",
       "      <th>3414</th>\n",
       "      <td>1705881600</td>\n",
       "      <td>41651.207031</td>\n",
       "      <td>39450.117188</td>\n",
       "      <td>41553.652344</td>\n",
       "      <td>39507.367188</td>\n",
       "      <td>31338708143</td>\n",
       "      <td>39507.367188</td>\n",
       "      <td>2024-01-22</td>\n",
       "    </tr>\n",
       "    <tr>\n",
       "      <th>3415</th>\n",
       "      <td>1705968000</td>\n",
       "      <td>40127.351562</td>\n",
       "      <td>38521.894531</td>\n",
       "      <td>39518.714844</td>\n",
       "      <td>39845.550781</td>\n",
       "      <td>29244553045</td>\n",
       "      <td>39845.550781</td>\n",
       "      <td>2024-01-23</td>\n",
       "    </tr>\n",
       "    <tr>\n",
       "      <th>3416</th>\n",
       "      <td>1706054400</td>\n",
       "      <td>40483.785156</td>\n",
       "      <td>39508.796875</td>\n",
       "      <td>39877.593750</td>\n",
       "      <td>40077.074219</td>\n",
       "      <td>22359526178</td>\n",
       "      <td>40077.074219</td>\n",
       "      <td>2024-01-24</td>\n",
       "    </tr>\n",
       "    <tr>\n",
       "      <th>3417</th>\n",
       "      <td>1706190660</td>\n",
       "      <td>40254.480469</td>\n",
       "      <td>39797.531250</td>\n",
       "      <td>40075.550781</td>\n",
       "      <td>39797.531250</td>\n",
       "      <td>19372761088</td>\n",
       "      <td>39797.531250</td>\n",
       "      <td>2024-01-25</td>\n",
       "    </tr>\n",
       "  </tbody>\n",
       "</table>\n",
       "<p>3418 rows × 8 columns</p>\n",
       "</div>"
      ],
      "text/plain": [
       "            date          high           low          open         close  \\\n",
       "0     1410912000    468.174011    452.421997    465.864014    457.334015   \n",
       "1     1410998400    456.859985    413.104004    456.859985    424.440002   \n",
       "2     1411084800    427.834991    384.532013    424.102997    394.795990   \n",
       "3     1411171200    423.295990    389.882996    394.673004    408.903992   \n",
       "4     1411257600    412.425995    393.181000    408.084991    398.821014   \n",
       "...          ...           ...           ...           ...           ...   \n",
       "3413  1705795200  41855.367188  41497.007812  41671.488281  41545.785156   \n",
       "3414  1705881600  41651.207031  39450.117188  41553.652344  39507.367188   \n",
       "3415  1705968000  40127.351562  38521.894531  39518.714844  39845.550781   \n",
       "3416  1706054400  40483.785156  39508.796875  39877.593750  40077.074219   \n",
       "3417  1706190660  40254.480469  39797.531250  40075.550781  39797.531250   \n",
       "\n",
       "           volume      adjclose formatted_date  \n",
       "0        21056800    457.334015     2014-09-17  \n",
       "1        34483200    424.440002     2014-09-18  \n",
       "2        37919700    394.795990     2014-09-19  \n",
       "3        36863600    408.903992     2014-09-20  \n",
       "4        26580100    398.821014     2014-09-21  \n",
       "...           ...           ...            ...  \n",
       "3413   9344043642  41545.785156     2024-01-21  \n",
       "3414  31338708143  39507.367188     2024-01-22  \n",
       "3415  29244553045  39845.550781     2024-01-23  \n",
       "3416  22359526178  40077.074219     2024-01-24  \n",
       "3417  19372761088  39797.531250     2024-01-25  \n",
       "\n",
       "[3418 rows x 8 columns]"
      ]
     },
     "execution_count": 3,
     "metadata": {},
     "output_type": "execute_result"
    }
   ],
   "source": [
    "df = pd.read_parquet(\"../data/01_raw/btc_raw_history_1d.parquet\")\n",
    "df[\"formatted_date\"] = pd.to_datetime(df[\"formatted_date\"])\n",
    "df = df.sort_values(by=\"formatted_date\")\n",
    "df "
   ]
  },
  {
   "cell_type": "code",
   "execution_count": 4,
   "id": "75ab9560",
   "metadata": {},
   "outputs": [],
   "source": [
    "THRESHOLD_INDEX = 365\n",
    "train_dataset = df[[\"formatted_date\", \"close\"]].set_index(\"formatted_date\").iloc[:-THRESHOLD_INDEX].copy()\n",
    "test_dataset = df[[\"formatted_date\", \"close\"]].set_index(\"formatted_date\").iloc[-THRESHOLD_INDEX:].copy()"
   ]
  },
  {
   "cell_type": "code",
   "execution_count": 5,
   "id": "b8c14abc",
   "metadata": {},
   "outputs": [
    {
     "data": {
      "image/png": "[encoded data removed]",
      "text/plain": [
       "<Figure size 640x480 with 1 Axes>"
      ]
     },
     "metadata": {},
     "output_type": "display_data"
    }
   ],
   "source": [
    "_, axs = plt.subplots(1, 1,)\n",
    "\n",
    "train_dataset.plot(ax=axs, label=\"train\", linewidth=0.75)\n",
    "test_dataset.plot(ax=axs, label=\"test\", linewidth=0.75)\n",
    "axs.legend(frameon=False,)\n",
    "\n",
    "axs.set_title(\"BTC Price\")\n",
    "axs.set_ylabel(\"USD\")\n",
    "axs.set_xlabel(\"Date\")\n",
    "\n",
    "for tick in axs.get_xticklabels():\n",
    "    tick.set_rotation(45)\n",
    "\n",
    "plt.show()"
   ]
  },
  {
   "cell_type": "markdown",
   "id": "1793b243",
   "metadata": {},
   "source": [
    "# training"
   ]
  },
  {
   "cell_type": "code",
   "execution_count": null,
   "id": "584dc709",
   "metadata": {},
   "outputs": [],
   "source": []
  },
  {
   "cell_type": "code",
   "execution_count": null,
   "id": "5f47b078",
   "metadata": {},
   "outputs": [],
   "source": []
  },
  {
   "cell_type": "code",
   "execution_count": null,
   "id": "a6bce061",
   "metadata": {},
   "outputs": [],
   "source": []
  },
  {
   "cell_type": "markdown",
   "id": "a062ac79",
   "metadata": {},
   "source": [
    "."
   ]
  }
 ],
 "metadata": {
  "kernelspec": {
   "display_name": "time-series-lab",
   "language": "python",
   "name": "env_moderadamente"
  },
  "language_info": {
   "codemirror_mode": {
    "name": "ipython",
    "version": 3
   },
   "file_extension": ".py",
   "mimetype": "text/x-python",
   "name": "python",
   "nbconvert_exporter": "python",
   "pygments_lexer": "ipython3",
   "version": "3.10.12"
  },
  "toc": {
   "base_numbering": 1,
   "nav_menu": {},
   "number_sections": true,
   "sideBar": true,
   "skip_h1_title": false,
   "title_cell": "Table of Contents",
   "title_sidebar": "Contents",
   "toc_cell": false,
   "toc_position": {},
   "toc_section_display": true,
   "toc_window_display": false
  },
  "varInspector": {
   "cols": {
    "lenName": 16,
    "lenType": 16,
    "lenVar": 40
   },
   "kernels_config": {
    "python": {
     "delete_cmd_postfix": "",
     "delete_cmd_prefix": "del ",
     "library": "var_list.py",
     "varRefreshCmd": "print(var_dic_list())"
    },
    "r": {
     "delete_cmd_postfix": ") ",
     "delete_cmd_prefix": "rm(",
     "library": "var_list.r",
     "varRefreshCmd": "cat(var_dic_list()) "
    }
   },
   "types_to_exclude": [
    "module",
    "function",
    "builtin_function_or_method",
    "instance",
    "_Feature"
   ],
   "window_display": false
  }
 },
 "nbformat": 4,
 "nbformat_minor": 5
}
